{
 "cells": [
  {
   "cell_type": "code",
   "execution_count": 2,
   "id": "f1e5a4f8-e960-4d2f-9259-8a5cd88d5d37",
   "metadata": {},
   "outputs": [
    {
     "name": "stdout",
     "output_type": "stream",
     "text": [
      "start\n"
     ]
    }
   ],
   "source": [
    "import datetime\n",
    "import threading\n",
    "import pathlib\n",
    "import os\n",
    "\n",
    "\n",
    "class Logger:\n",
    "    _instance = None\n",
    "    _file_lock = threading.Lock()\n",
    "    _init_lock = threading.Lock()\n",
    "\n",
    "    def __new__(cls, *args, **kwargs):\n",
    "        with cls._init_lock:  \n",
    "            if cls._instance is None:\n",
    "                cls._instance = super(Logger, cls).__new__(cls)\n",
    "        return cls._instance\n",
    "\n",
    "if __name__ == \"__main__\":\n",
    "    print('start')"
   ]
  },
  {
   "cell_type": "code",
   "execution_count": null,
   "id": "74939715-1d46-48f4-bc66-4a18c80f49fa",
   "metadata": {},
   "outputs": [],
   "source": []
  }
 ],
 "metadata": {
  "kernelspec": {
   "display_name": "Python 3 (ipykernel)",
   "language": "python",
   "name": "python3"
  },
  "language_info": {
   "codemirror_mode": {
    "name": "ipython",
    "version": 3
   },
   "file_extension": ".py",
   "mimetype": "text/x-python",
   "name": "python",
   "nbconvert_exporter": "python",
   "pygments_lexer": "ipython3",
   "version": "3.13.0"
  }
 },
 "nbformat": 4,
 "nbformat_minor": 5
}
