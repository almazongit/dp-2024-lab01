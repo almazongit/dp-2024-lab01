{
 "cells": [
  {
   "cell_type": "code",
   "execution_count": 13,
   "id": "f1e5a4f8-e960-4d2f-9259-8a5cd88d5d37",
   "metadata": {},
   "outputs": [
    {
     "name": "stdout",
     "output_type": "stream",
     "text": [
      "logger1 и logger2 ссылаются на один и тот же объект.\n"
     ]
    }
   ],
   "source": [
    "import datetime\n",
    "import threading\n",
    "import pathlib\n",
    "import os\n",
    "\n",
    "\n",
    "class Logger:\n",
    "    \"\"\"Класс, представляющий логгер для записи сообщений, реализованный по шаблону singleton.\"\"\"\n",
    "    _instance = None\n",
    "    _file_lock = threading.Lock()\n",
    "    _init_lock = threading.Lock()\n",
    "\n",
    "    def __new__(cls, *args, **kwargs):\n",
    "        \"\"\"Создание единственного экземпляра.\"\"\"\n",
    "        with cls._init_lock:\n",
    "            if cls._instance is None:\n",
    "                cls._instance = super(Logger, cls).__new__(cls)\n",
    "        return cls._instance\n",
    "\n",
    "    def __init__(self, directory_path: str):\n",
    "        \"\"\"Инициализация экземпляра логгера.\"\"\"\n",
    "        with Logger._init_lock:\n",
    "            if not hasattr(self, '_initialized'):\n",
    "                self._file_name = self.generate_log_filename()\n",
    "                self._file_path = pathlib.Path(directory_path) / self._file_name\n",
    "\n",
    "                # Создаем пустой файл для логов\n",
    "                open(self._file_path, 'w').close()\n",
    "\n",
    "                self._initialized = True\n",
    "\n",
    "    def generate_log_filename(self) -> str:\n",
    "        \"\"\"Генерация имени файла для логов.\"\"\"\n",
    "        return f\"DP.P1.{datetime.datetime.now():%Y-%m-%d.%H-%M-%S}.log\"\n",
    "\n",
    "    def _write_log(self, level: str, message: str) -> None:\n",
    "        \"\"\"Добавление информации о времени и статусе в файл.\"\"\"\n",
    "        timestamp = datetime.datetime.now().strftime('%Y-%m-%d %H:%M:%S')\n",
    "        log_message = f\"{timestamp} [{level}] {message}\\n\"\n",
    "\n",
    "        with Logger._file_lock:\n",
    "            with open(self._file_path, 'a', encoding='utf-8') as file:\n",
    "                file.write(log_message)\n",
    "\n",
    "\n",
    "if __name__ == \"__main__\":\n",
    "    save_folder_path = os.getcwd()\n",
    "\n",
    "    logger1 = Logger(save_folder_path)\n",
    "\n",
    "    logger2 = Logger(save_folder_path)\n",
    "\n",
    "    if logger1 is logger2:\n",
    "        print(\"logger1 и logger2 ссылаются на один и тот же объект.\")\n",
    "    else:\n",
    "        print(\"logger1 и logger2 - разные объекты.\")"
   ]
  },
  {
   "cell_type": "code",
   "execution_count": null,
   "id": "74939715-1d46-48f4-bc66-4a18c80f49fa",
   "metadata": {},
   "outputs": [],
   "source": []
  }
 ],
 "metadata": {
  "kernelspec": {
   "display_name": "Python 3 (ipykernel)",
   "language": "python",
   "name": "python3"
  },
  "language_info": {
   "codemirror_mode": {
    "name": "ipython",
    "version": 3
   },
   "file_extension": ".py",
   "mimetype": "text/x-python",
   "name": "python",
   "nbconvert_exporter": "python",
   "pygments_lexer": "ipython3",
   "version": "3.13.0"
  }
 },
 "nbformat": 4,
 "nbformat_minor": 5
}
